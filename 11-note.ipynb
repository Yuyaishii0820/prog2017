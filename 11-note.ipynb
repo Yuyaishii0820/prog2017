{
 "cells": [
  {
   "cell_type": "code",
   "execution_count": 4,
   "metadata": {
    "collapsed": false
   },
   "outputs": [],
   "source": [
    "with open('c:/cit/test.txt', 'w', encoding='utf-8') as test_file:\n",
    "    test_file.write('Hello!')"
   ]
  },
  {
   "cell_type": "code",
   "execution_count": 1,
   "metadata": {
    "collapsed": true
   },
   "outputs": [],
   "source": [
    "with open('c:/cit/test.txt', 'a', encoding='utf-8') as test_file:\n",
    "    test_file.write('Hello!,World')"
   ]
  },
  {
   "cell_type": "code",
   "execution_count": 3,
   "metadata": {
    "collapsed": false
   },
   "outputs": [],
   "source": [
    "with open('c:/cit/record.txt', 'w', encoding='utf-8') as record_file:\n",
    "    for x in range(1,11):\n",
    "        record_file.write(str(x))"
   ]
  },
  {
   "cell_type": "code",
   "execution_count": 5,
   "metadata": {
    "collapsed": false
   },
   "outputs": [],
   "source": [
    "with open('c:/cit/record.txt', 'w', encoding='utf-8') as record_file:\n",
    "    for x in range(1,11):\n",
    "        record_file.write(str(x)+ '\\n')"
   ]
  },
  {
   "cell_type": "code",
   "execution_count": 7,
   "metadata": {
    "collapsed": false
   },
   "outputs": [],
   "source": [
    "with open('c:/cit/record.csv', 'w', encoding='utf-8') as record_file:\n",
    "    for i in range(1,11):\n",
    "        for j in range(1,11):\n",
    "            record_file.write(str(i*j)+ ',')\n",
    "        record_file.write('\\n')\n",
    "        "
   ]
  },
  {
   "cell_type": "code",
   "execution_count": null,
   "metadata": {
    "collapsed": true
   },
   "outputs": [],
   "source": []
  }
 ],
 "metadata": {
  "kernelspec": {
   "display_name": "Python 3",
   "language": "python",
   "name": "python3"
  },
  "language_info": {
   "codemirror_mode": {
    "name": "ipython",
    "version": 3
   },
   "file_extension": ".py",
   "mimetype": "text/x-python",
   "name": "python",
   "nbconvert_exporter": "python",
   "pygments_lexer": "ipython3",
   "version": "3.6.0"
  }
 },
 "nbformat": 4,
 "nbformat_minor": 2
}
